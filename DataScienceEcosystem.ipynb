{
 "cells": [
  {
   "cell_type": "markdown",
   "id": "c6928506-4c1b-4f8a-bd7c-d3b64199563b",
   "metadata": {},
   "source": [
    "# Data Science Tools and Ecosystem"
   ]
  },
  {
   "cell_type": "markdown",
   "id": "b462f885-7a0e-4fd8-b6a7-c6c97bf688c6",
   "metadata": {},
   "source": [
    "In this notebook, Data Science Tools and Ecosystem are summarized."
   ]
  },
  {
   "cell_type": "markdown",
   "id": "8f93c13f-495f-4d43-8a44-ab9b8c38b512",
   "metadata": {},
   "source": [
    "**Objectives:**\n",
    "- Understand the basics of data science languages like Python and R.\n",
    "- Learn about key data science libraries and their applications.\n",
    "- Explore tools used for data analysis and visualization.\n",
    "- Demonstrate basic Python operations and expressions."
   ]
  },
  {
   "cell_type": "markdown",
   "id": "9c12ed6f-7e79-45b6-8863-3be049340533",
   "metadata": {},
   "source": [
    "Some of the popular languages that Data Scientists use are:\n",
    "1. Python\n",
    "2. R\n",
    "3. SQL\n",
    "4. Java"
   ]
  },
  {
   "cell_type": "markdown",
   "id": "864a63dd-6ac7-4cac-ad4c-0251d96373a4",
   "metadata": {},
   "source": [
    "Some of the commonly used libraries by Data Scientists include:\n",
    "1. Pandas\n",
    "2. NumPy\n",
    "3. Scikit-learn\n",
    "4. TensorFlow\n",
    "5. Matplotlib"
   ]
  },
  {
   "cell_type": "markdown",
   "id": "8b8aba91-4549-4fd4-995f-88a904f8f9ab",
   "metadata": {},
   "source": [
    "| Data Science Tools |\n",
    "|--------------------|\n",
    "| Jupyter Notebook   |\n",
    "| RStudio            |\n",
    "| Apache Zeppelin    |"
   ]
  },
  {
   "cell_type": "markdown",
   "id": "9e7de4d9-6d1c-4c16-b0a5-dc44d36c6c4a",
   "metadata": {},
   "source": [
    "### Examples of Arithmetic Expressions in Python"
   ]
  },
  {
   "cell_type": "code",
   "execution_count": 7,
   "id": "d4b82a99-e1f8-447c-adf2-b59e8f853f72",
   "metadata": {},
   "outputs": [],
   "source": [
    "# This is a simple arithmetic expression to multiply and then add numbers"
   ]
  },
  {
   "cell_type": "code",
   "execution_count": 3,
   "id": "eb3046d3-e59a-4372-b091-9fce6f10bd58",
   "metadata": {},
   "outputs": [
    {
     "name": "stdout",
     "output_type": "stream",
     "text": [
      "17\n"
     ]
    }
   ],
   "source": [
    "result = (3 * 4) + 5\n",
    "print(result)"
   ]
  },
  {
   "cell_type": "code",
   "execution_count": 4,
   "id": "dd887d00-593c-4bad-9531-0d8d7b4ba003",
   "metadata": {},
   "outputs": [],
   "source": [
    "# Convert 200 minutes to hours"
   ]
  },
  {
   "cell_type": "code",
   "execution_count": 8,
   "id": "c4b01efe-04a2-487b-972e-a1445f719104",
   "metadata": {},
   "outputs": [
    {
     "name": "stdout",
     "output_type": "stream",
     "text": [
      "3.3333333333333335\n"
     ]
    }
   ],
   "source": [
    "minutes = 200\n",
    "hours = minutes / 60\n",
    "print(hours)"
   ]
  },
  {
   "cell_type": "markdown",
   "id": "9be47be6-97a6-408a-b5be-0a88a28fa791",
   "metadata": {},
   "source": [
    "## Author\n",
    "Homame Soussi"
   ]
  },
  {
   "cell_type": "code",
   "execution_count": null,
   "id": "3ec1e8ab-4f1b-4527-b194-136c8ddf3368",
   "metadata": {},
   "outputs": [],
   "source": []
  }
 ],
 "metadata": {
  "kernelspec": {
   "display_name": "Python 3 (ipykernel)",
   "language": "python",
   "name": "python3"
  },
  "language_info": {
   "codemirror_mode": {
    "name": "ipython",
    "version": 3
   },
   "file_extension": ".py",
   "mimetype": "text/x-python",
   "name": "python",
   "nbconvert_exporter": "python",
   "pygments_lexer": "ipython3",
   "version": "3.12.0"
  }
 },
 "nbformat": 4,
 "nbformat_minor": 5
}
